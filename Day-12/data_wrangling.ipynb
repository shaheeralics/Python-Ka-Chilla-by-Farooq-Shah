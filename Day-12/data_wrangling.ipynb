{
 "cells": [
  {
   "cell_type": "markdown",
   "metadata": {},
   "source": [
    "#   data    wrangling\n",
    "    This process involves 'cleaning', 'structuring', and enriching the data to make it more accessible and valuable for 'decision-making'. Data wrangling is essential because raw data is often messy, incomplete, and unstructured, making it difficult to derive meaningful insights without significant preprocessing."
   ]
  }
 ],
 "metadata": {
  "language_info": {
   "name": "python"
  }
 },
 "nbformat": 4,
 "nbformat_minor": 2
}
