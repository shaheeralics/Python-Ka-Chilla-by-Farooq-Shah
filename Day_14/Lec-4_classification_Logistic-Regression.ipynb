{
 "cells": [
  {
   "cell_type": "markdown",
   "metadata": {},
   "source": [
    "# `Logistic Regression` (Deep Learning me iska be hud istemaal hai)\n",
    "\n",
    "iske naam per nahi jaana kyuke ye classification ka model hai, wo is wajah se ke iske ander aik fuction use hota hai jis ka naam ` sigmoid hai`\n",
    "Logistic Regression mei values saari plot mei design kar deta hai , lekin `sigmoid` function batata hai ke kya karna hai , \n",
    "- Logistic Regression is a type of supervised learning algorithm based on the logistic function. It's used when we have categorical output\n",
    "  \n",
    "`sigmoid function` hamare pure data set koi `binary classification` mei divide kar deta hai. `S` shape banti hai is mei, `S` shape ki wajah se isko Sigmoid kaha jaata hai."
   ]
  },
  {
   "cell_type": "code",
   "execution_count": 1,
   "metadata": {},
   "outputs": [
    {
     "name": "stderr",
     "output_type": "stream",
     "text": [
      "C:\\Users\\Shaheer Ali\\AppData\\Local\\Temp\\ipykernel_8672\\3043349191.py:13: FutureWarning: A value is trying to be set on a copy of a DataFrame or Series through chained assignment using an inplace method.\n",
      "The behavior will change in pandas 3.0. This inplace method will never work because the intermediate object on which we are setting values always behaves as a copy.\n",
      "\n",
      "For example, when doing 'df[col].method(value, inplace=True)', try using 'df.method({col: value}, inplace=True)' or df[col] = df[col].method(value) instead, to perform the operation inplace on the original object.\n",
      "\n",
      "\n",
      "  X['age'].fillna(X['age'].mean(),inplace= True)\n",
      "c:\\miniconda3\\envs\\datascience\\Lib\\site-packages\\sklearn\\linear_model\\_logistic.py:469: ConvergenceWarning: lbfgs failed to converge (status=1):\n",
      "STOP: TOTAL NO. of ITERATIONS REACHED LIMIT.\n",
      "\n",
      "Increase the number of iterations (max_iter) or scale the data as shown in:\n",
      "    https://scikit-learn.org/stable/modules/preprocessing.html\n",
      "Please also refer to the documentation for alternative solver options:\n",
      "    https://scikit-learn.org/stable/modules/linear_model.html#logistic-regression\n",
      "  n_iter_i = _check_optimize_result(\n"
     ]
    },
    {
     "name": "stdout",
     "output_type": "stream",
     "text": [
      "Confusion Martrix :  [[97 12]\n",
      " [23 47]]\n",
      "Precision score :  0.7966101694915254\n",
      "Recall Score :  0.6714285714285714\n",
      "F1 Score :  0.7286821705426356\n"
     ]
    }
   ],
   "source": [
    "import pandas as pd \n",
    "import numpy as np \n",
    "import seaborn as sns\n",
    "import matplotlib.pyplot as plt \n",
    "from sklearn.model_selection import train_test_split\n",
    "# Import Dataset from seaborn\n",
    "df = sns.load_dataset('titanic')\n",
    "\n",
    "X = df[['pclass','sex','age','sibsp','parch','fare']]\n",
    "y=  df['survived']\n",
    "\n",
    "X = pd.get_dummies(X,columns = ['sex'])\n",
    "X['age'].fillna(X['age'].mean(),inplace= True)\n",
    "\n",
    "from sklearn.linear_model import LogisticRegression \n",
    "# splitting X and y into training data and testing data\n",
    "X_train, X_test, y_train, y_test = train_test_split(X,y, train_size=0.8)\n",
    "\n",
    "model = LogisticRegression()\n",
    "model = model.fit(X_train, y_train)\n",
    "predictions = model.predict(X_test)\n",
    "\n",
    "from sklearn.metrics import confusion_matrix, precision_score,accuracy_score,f1_score,recall_score\n",
    "\n",
    "print(\"Confusion Martrix : \",confusion_matrix(y_test, predictions))\n",
    "print(\"Precision score : \",precision_score(y_test, predictions))\n",
    "print(\"Recall Score : \",recall_score(y_test, predictions))\n",
    "print(\"F1 Score : \",f1_score(y_test, predictions))"
   ]
  },
  {
   "cell_type": "code",
   "execution_count": 2,
   "metadata": {},
   "outputs": [
    {
     "data": {
      "text/plain": [
       "Text(50.722222222222214, 0.5, 'Orignal Values')"
      ]
     },
     "execution_count": 2,
     "metadata": {},
     "output_type": "execute_result"
    },
    {
     "data": {
      "image/png": "[encoded data removed]",
      "text/plain": [
       "<Figure size 640x480 with 2 Axes>"
      ]
     },
     "metadata": {},
     "output_type": "display_data"
    }
   ],
   "source": [
    "sns.heatmap(confusion_matrix(y_test, predictions), annot=True)\n",
    "plt.xlabel('Predicted Values')\n",
    "plt.ylabel('Orignal Values')"
   ]
  },
  {
   "cell_type": "code",
   "execution_count": null,
   "metadata": {},
   "outputs": [],
   "source": []
  }
 ],
 "metadata": {
  "kernelspec": {
   "display_name": "Python 3",
   "language": "python",
   "name": "python3"
  },
  "language_info": {
   "codemirror_mode": {
    "name": "ipython",
    "version": 3
   },
   "file_extension": ".py",
   "mimetype": "text/x-python",
   "name": "python",
   "nbconvert_exporter": "python",
   "pygments_lexer": "ipython3",
   "version": "3.12.3"
  }
 },
 "nbformat": 4,
 "nbformat_minor": 2
}
