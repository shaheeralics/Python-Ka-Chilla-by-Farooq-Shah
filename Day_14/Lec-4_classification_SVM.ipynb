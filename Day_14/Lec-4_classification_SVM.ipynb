{
 "cells": [
  {
   "cell_type": "markdown",
   "metadata": {},
   "source": [
    "# `Support Vectors Machine` (SVM)\n",
    "\n",
    "ye aik line laga di hai , line ke aik taraf faisalabad ki team hai aur dusri taraf karachi ki team hai, aur ye line aik hyperplane bana deti hai jo ke classify karti hai , dono teams ko, \n",
    "\n",
    "edr is mei ham 2 categories ko differentiate kartei hai jo kei hamei python mei nazar nahi aata. but ham use kartei hai isko.\n",
    "\n",
    "`kyu ke naam bhari saa kaam saada sa`"
   ]
  },
  {
   "cell_type": "code",
   "execution_count": 1,
   "metadata": {},
   "outputs": [
    {
     "name": "stderr",
     "output_type": "stream",
     "text": [
      "C:\\Users\\Shaheer Ali\\AppData\\Local\\Temp\\ipykernel_1980\\1865855778.py:13: FutureWarning: A value is trying to be set on a copy of a DataFrame or Series through chained assignment using an inplace method.\n",
      "The behavior will change in pandas 3.0. This inplace method will never work because the intermediate object on which we are setting values always behaves as a copy.\n",
      "\n",
      "For example, when doing 'df[col].method(value, inplace=True)', try using 'df.method({col: value}, inplace=True)' or df[col] = df[col].method(value) instead, to perform the operation inplace on the original object.\n",
      "\n",
      "\n",
      "  X['age'].fillna(X['age'].mean(),inplace= True)\n"
     ]
    },
    {
     "name": "stdout",
     "output_type": "stream",
     "text": [
      "Confusion Martrix :  [[106   4]\n",
      " [ 50  19]]\n",
      "Precision score :  0.8260869565217391\n",
      "Recall Score :  0.2753623188405797\n",
      "F1 Score :  0.41304347826086957\n"
     ]
    }
   ],
   "source": [
    "import pandas as pd \n",
    "import numpy as np \n",
    "import seaborn as sns\n",
    "import matplotlib.pyplot as plt \n",
    "from sklearn.model_selection import train_test_split\n",
    "# Import Dataset from seaborn\n",
    "df = sns.load_dataset('titanic')\n",
    "\n",
    "X = df[['pclass','sex','age','sibsp','parch','fare']]\n",
    "y=  df['survived']\n",
    "\n",
    "X = pd.get_dummies(X,columns = ['sex'])\n",
    "X['age'].fillna(X['age'].mean(),inplace= True)\n",
    "\n",
    "from sklearn.svm import SVC \n",
    "# splitting X and y into training data and testing data\n",
    "X_train, X_test, y_train, y_test = train_test_split(X,y, train_size=0.8)\n",
    "\n",
    "model = SVC()\n",
    "model = model.fit(X_train, y_train)\n",
    "predictions = model.predict(X_test)\n",
    "\n",
    "from sklearn.metrics import confusion_matrix, precision_score,accuracy_score,f1_score,recall_score\n",
    "from sklearn import tree\n",
    "\n",
    "print(\"Confusion Martrix : \",confusion_matrix(y_test, predictions))\n",
    "print(\"Precision score : \",precision_score(y_test, predictions))\n",
    "print(\"Recall Score : \",recall_score(y_test, predictions))\n",
    "print(\"F1 Score : \",f1_score(y_test, predictions))"
   ]
  },
  {
   "cell_type": "code",
   "execution_count": 2,
   "metadata": {},
   "outputs": [
    {
     "data": {
      "text/plain": [
       "Text(50.722222222222214, 0.5, 'Orignal Values')"
      ]
     },
     "execution_count": 2,
     "metadata": {},
     "output_type": "execute_result"
    },
    {
     "data": {
      "image/png": "[encoded data removed]",
      "text/plain": [
       "<Figure size 640x480 with 2 Axes>"
      ]
     },
     "metadata": {},
     "output_type": "display_data"
    }
   ],
   "source": [
    "sns.heatmap(confusion_matrix(y_test, predictions), annot=True)\n",
    "plt.xlabel('Predicted Values')\n",
    "plt.ylabel('Orignal Values')"
   ]
  },
  {
   "cell_type": "code",
   "execution_count": null,
   "metadata": {},
   "outputs": [],
   "source": []
  }
 ],
 "metadata": {
  "kernelspec": {
   "display_name": "Python 3",
   "language": "python",
   "name": "python3"
  },
  "language_info": {
   "codemirror_mode": {
    "name": "ipython",
    "version": 3
   },
   "file_extension": ".py",
   "mimetype": "text/x-python",
   "name": "python",
   "nbconvert_exporter": "python",
   "pygments_lexer": "ipython3",
   "version": "3.12.3"
  }
 },
 "nbformat": 4,
 "nbformat_minor": 2
}
