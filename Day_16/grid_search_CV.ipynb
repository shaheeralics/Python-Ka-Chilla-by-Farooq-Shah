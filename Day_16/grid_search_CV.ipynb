{
 "cells": [
  {
   "cell_type": "markdown",
   "metadata": {},
   "source": [
    "# ` Hyper Paremeter Tuning:`"
   ]
  },
  {
   "cell_type": "code",
   "execution_count": 63,
   "metadata": {},
   "outputs": [
    {
     "name": "stdout",
     "output_type": "stream",
     "text": [
      "{'copy_X': True, 'fit_intercept': True, 'n_jobs': None, 'positive': False}\n"
     ]
    }
   ],
   "source": [
    "from sklearn.linear_model import LinearRegression\n",
    "\n",
    "# create model\n",
    "\n",
    "model = LinearRegression()\n",
    "\n",
    "# get the parameters list\n",
    "\n",
    "print(model.get_params())"
   ]
  },
  {
   "cell_type": "code",
   "execution_count": 64,
   "metadata": {},
   "outputs": [
    {
     "name": "stdout",
     "output_type": "stream",
     "text": [
      "{'bootstrap': True, 'ccp_alpha': 0.0, 'class_weight': None, 'criterion': 'gini', 'max_depth': None, 'max_features': 'sqrt', 'max_leaf_nodes': None, 'max_samples': None, 'min_impurity_decrease': 0.0, 'min_samples_leaf': 1, 'min_samples_split': 2, 'min_weight_fraction_leaf': 0.0, 'n_estimators': 100, 'n_jobs': None, 'oob_score': False, 'random_state': None, 'verbose': 0, 'warm_start': False}\n"
     ]
    }
   ],
   "source": [
    "from sklearn.ensemble import RandomForestClassifier\n",
    "\n",
    "# create model\n",
    "\n",
    "model = RandomForestClassifier()\n",
    "\n",
    "# get the parameters list\n",
    "\n",
    "print(model.get_params())"
   ]
  },
  {
   "cell_type": "code",
   "execution_count": 65,
   "metadata": {},
   "outputs": [
    {
     "name": "stdout",
     "output_type": "stream",
     "text": [
      "{'algorithm': 'auto', 'leaf_size': 30, 'metric': 'minkowski', 'metric_params': None, 'n_jobs': None, 'n_neighbors': 5, 'p': 2, 'weights': 'uniform'}\n"
     ]
    }
   ],
   "source": [
    "from sklearn.neighbors import KNeighborsClassifier\n",
    "\n",
    "# create model\n",
    "\n",
    "model = KNeighborsClassifier()\n",
    "\n",
    "# get the parameters list\n",
    "\n",
    "print(model.get_params())"
   ]
  },
  {
   "cell_type": "markdown",
   "metadata": {},
   "source": [
    "parameters ko theek kar ke aik hi model ko kis tarah se best banaya jaa sakta hai?"
   ]
  },
  {
   "cell_type": "code",
   "execution_count": 66,
   "metadata": {},
   "outputs": [
    {
     "name": "stdout",
     "output_type": "stream",
     "text": [
      "Best Parameters : {'fit_intercept': True}\n"
     ]
    },
    {
     "name": "stderr",
     "output_type": "stream",
     "text": [
      "C:\\Users\\anony_khan\\AppData\\Local\\Temp\\ipykernel_8756\\2731042502.py:10: SettingWithCopyWarning: \n",
      "A value is trying to be set on a copy of a slice from a DataFrame\n",
      "\n",
      "See the caveats in the documentation: https://pandas.pydata.org/pandas-docs/stable/user_guide/indexing.html#returning-a-view-versus-a-copy\n",
      "  X['age'].fillna(X['age'].mean(), inplace=True)\n"
     ]
    }
   ],
   "source": [
    "# linear Regression\n",
    "\n",
    "import pandas as pd\n",
    "import seaborn as sns\n",
    "df= sns.load_dataset(\"titanic\")\n",
    "\n",
    "X = df[['age']]\n",
    "y= df['fare']\n",
    "\n",
    "X['age'].fillna(X['age'].mean(), inplace=True)\n",
    "\n",
    "from sklearn.linear_model import LinearRegression\n",
    "from sklearn.model_selection import GridSearchCV\n",
    "\n",
    "\n",
    "model = LinearRegression()\n",
    "\n",
    "#defining the parameter grid\n",
    "param_grid = {'fit_intercept' : [True, False]}\n",
    "\n",
    "# object grid search cb (Creating the model)\n",
    "grid_search = GridSearchCV(model, param_grid, cv= 5 , scoring = 'r2')\n",
    "# training the model\n",
    "grid_search.fit(X,y)\n",
    "# print the best parameters.\n",
    "print(f\"Best Parameters : {grid_search.best_params_}\")"
   ]
  },
  {
   "cell_type": "markdown",
   "metadata": {},
   "source": [
    "# `KNN` grid search CV"
   ]
  },
  {
   "cell_type": "code",
   "execution_count": 67,
   "metadata": {},
   "outputs": [
    {
     "name": "stdout",
     "output_type": "stream",
     "text": [
      "Best Parameters : {'n_neighbors': 5}\n",
      "Best Score : -0.2146280183756427 \n",
      "Best F1_Score : 0.6075670834695435\n"
     ]
    }
   ],
   "source": [
    "# linear Regression\n",
    "\n",
    "import pandas as pd\n",
    "import seaborn as sns\n",
    "df= sns.load_dataset(\"titanic\")\n",
    "\n",
    "X = df[['pclass', 'sex','age', 'sibsp', 'parch','fare']]\n",
    "y = df['survived']\n",
    "\n",
    "X = pd.get_dummies(X , columns = ['sex'])\n",
    "X['age'].fillna(X['age'].mean(), inplace=True)\n",
    "\n",
    "from sklearn.neighbors import KNeighborsClassifier\n",
    "from sklearn.model_selection import GridSearchCV\n",
    "\n",
    "# create a model\n",
    "model = KNeighborsClassifier()\n",
    "\n",
    "#defining the parameter grid\n",
    "param_grid = {'n_neighbors' : [5,6]}\n",
    "\n",
    "# object grid search cb (Creating the model)\n",
    "grid_search = GridSearchCV(model, param_grid, cv= 5 , scoring = 'r2')\n",
    "grid_search1 = GridSearchCV(model, param_grid, cv= 5 , scoring = 'f1')\n",
    "# training the model\n",
    "grid_search.fit(X,y)\n",
    "grid_search1.fit(X,y)\n",
    "# print the best parameters.\n",
    "print(f\"Best Parameters : {grid_search.best_params_}\\nBest Score : {grid_search.best_score_} \\nBest F1_Score : {grid_search1.best_score_}\")"
   ]
  },
  {
   "cell_type": "code",
   "execution_count": 68,
   "metadata": {},
   "outputs": [
    {
     "name": "stdout",
     "output_type": "stream",
     "text": [
      "Best Parameters : {'n_neighbors': 45, 'weights': 'distance'}\n",
      "R2 Test:\n",
      "Best Score : -0.14772271863381461\n",
      "------------------------------------------------------ \n",
      "Best Parameters : {'n_neighbors': 7, 'weights': 'distance'}\n",
      "F1 Test:\n",
      "Best Score : 0.6234282955414142\n",
      "------------------------------------------------------  \n",
      "Best Parameters : {'n_neighbors': 7, 'weights': 'distance'}\n",
      "Recall Test:\n",
      "Best Score : 0.6081841432225065\n",
      "------------------------------------------------------  \n",
      "Best Parameters : {'n_neighbors': 45, 'weights': 'distance'}\n",
      "Precision Test:\n",
      "Best Score : 0.6914297075473547\n",
      "------------------------------------------------------  \n"
     ]
    }
   ],
   "source": [
    "# create a model\n",
    "import numpy as np\n",
    "model = KNeighborsClassifier()\n",
    "\n",
    "#defining the parameter grid\n",
    "param_grid = {'n_neighbors' : np.arange(1,50,2), 'weights': ['uniform', 'distance']}\n",
    "\n",
    "# object grid search cb (Creating the model)\n",
    "grid_search = GridSearchCV(model, param_grid, cv= 5 , scoring = 'r2')\n",
    "grid_search1 = GridSearchCV(model, param_grid, cv= 5 , scoring = 'f1')\n",
    "grid_search2 = GridSearchCV(model, param_grid, cv= 5 , scoring = 'recall')\n",
    "grid_search3 = GridSearchCV(model, param_grid, cv= 5 , scoring = 'precision')\n",
    "# training the model\n",
    "grid_search.fit(X,y)\n",
    "grid_search1.fit(X,y)\n",
    "grid_search2.fit(X,y)\n",
    "grid_search3.fit(X,y)\n",
    "# print the best parameters.\n",
    "print(f\"Best Parameters : {grid_search.best_params_}\\nR2 Test:\\nBest Score : {grid_search.best_score_}\\n------------------------------------------------------ \")\n",
    "print(f\"Best Parameters : {grid_search1.best_params_}\\nF1 Test:\\nBest Score : {grid_search1.best_score_}\\n------------------------------------------------------  \")\n",
    "print(f\"Best Parameters : {grid_search2.best_params_}\\nRecall Test:\\nBest Score : {grid_search2.best_score_}\\n------------------------------------------------------  \")\n",
    "print(f\"Best Parameters : {grid_search3.best_params_}\\nPrecision Test:\\nBest Score : {grid_search3.best_score_}\\n------------------------------------------------------  \")"
   ]
  },
  {
   "cell_type": "markdown",
   "metadata": {},
   "source": [
    "# `Decision Tree Classifier`"
   ]
  },
  {
   "cell_type": "code",
   "execution_count": 69,
   "metadata": {},
   "outputs": [
    {
     "name": "stdout",
     "output_type": "stream",
     "text": [
      "Best Parameters : {'max_depth': 5, 'min_samples_split': 2}\n",
      "Best Score : 0.8204255853367648 \n",
      "Best F1_Score : 0.8188241436925647\n"
     ]
    }
   ],
   "source": [
    "# linear Regression\n",
    "\n",
    "import pandas as pd\n",
    "import seaborn as sns\n",
    "df= sns.load_dataset(\"titanic\")\n",
    "\n",
    "X = df[['pclass', 'sex','age', 'sibsp', 'parch','fare']]\n",
    "y = df['survived']\n",
    "\n",
    "X = pd.get_dummies(X , columns = ['sex'])\n",
    "X['age'].fillna(X['age'].mean(), inplace=True)\n",
    "\n",
    "from sklearn.tree import DecisionTreeClassifier\n",
    "from sklearn.model_selection import GridSearchCV\n",
    "\n",
    "# create a model\n",
    "model = DecisionTreeClassifier()\n",
    "\n",
    "#defining the parameter grid\n",
    "param_grid = {'max_depth' : [3,5,7,None], 'min_samples_split':[2,3,4]}\n",
    "\n",
    "# object grid search cb (Creating the model)\n",
    "grid_search = GridSearchCV(model, param_grid, cv= 5 , scoring = 'accuracy')\n",
    "grid_search1 = GridSearchCV(model, param_grid, cv= 5 , scoring = 'precision')\n",
    "# training the model\n",
    "grid_search.fit(X,y)\n",
    "grid_search1.fit(X,y)\n",
    "# print the best parameters.\n",
    "print(f\"Best Parameters : {grid_search.best_params_}\\nBest Score : {grid_search.best_score_} \\nBest F1_Score : {grid_search1.best_score_}\")"
   ]
  },
  {
   "cell_type": "markdown",
   "metadata": {},
   "source": [
    "# `Random Forest Classifier`"
   ]
  },
  {
   "cell_type": "code",
   "execution_count": 76,
   "metadata": {},
   "outputs": [
    {
     "name": "stdout",
     "output_type": "stream",
     "text": [
      "Best Parameters : {'max_depth': 7, 'max_features': 'log2', 'min_samples_split': 2, 'n_estimators': 100}\n",
      "Best accuracy Score : 0.8305316678174629 \n"
     ]
    }
   ],
   "source": [
    "# linear Regression\n",
    "\n",
    "import pandas as pd\n",
    "import seaborn as sns\n",
    "df= sns.load_dataset(\"titanic\")\n",
    "\n",
    "X = df[['pclass', 'sex','age', 'sibsp', 'parch','fare']]\n",
    "y = df['survived']\n",
    "\n",
    "X = pd.get_dummies(X , columns = ['sex'])\n",
    "X['age'].fillna(X['age'].mean(), inplace=True)\n",
    "\n",
    "from sklearn.ensemble import RandomForestClassifier\n",
    "from sklearn.model_selection import GridSearchCV\n",
    "\n",
    "# create a model\n",
    "model = RandomForestClassifier()\n",
    "\n",
    "#defining the parameter grid\n",
    "param_grid = {'n_estimators':[10,60,100],\n",
    "              'max_depth' : [3,5,7,None],\n",
    "              'min_samples_split':[2,3,4],\n",
    "              'max_features':['sqrt','log2']}\n",
    "\n",
    "# object grid search cb (Creating the model)\n",
    "grid_search = GridSearchCV(model, param_grid, cv= 5 , scoring = 'accuracy')\n",
    "# training the model\n",
    "grid_search.fit(X,y)\n",
    "# print the best parameters.\n",
    "print(f\"Best Parameters : {grid_search.best_params_}\\nBest accuracy Score : {grid_search.best_score_} \")"
   ]
  },
  {
   "cell_type": "markdown",
   "metadata": {},
   "source": [
    "`Ache machine learning engineers hyper perameter tuning se nahi bhagtei.`\n",
    "\n",
    "is ke lia hamei `parmeters` ka  pata hona chahiye hai ke kon kon se parameters ka kya matlab hai,"
   ]
  },
  {
   "cell_type": "code",
   "execution_count": null,
   "metadata": {},
   "outputs": [],
   "source": []
  }
 ],
 "metadata": {
  "kernelspec": {
   "display_name": "Python 3",
   "language": "python",
   "name": "python3"
  },
  "language_info": {
   "codemirror_mode": {
    "name": "ipython",
    "version": 3
   },
   "file_extension": ".py",
   "mimetype": "text/x-python",
   "name": "python",
   "nbconvert_exporter": "python",
   "pygments_lexer": "ipython3",
   "version": "3.11.7"
  }
 },
 "nbformat": 4,
 "nbformat_minor": 2
}
